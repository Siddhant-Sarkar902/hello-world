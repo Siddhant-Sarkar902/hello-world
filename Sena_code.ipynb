{
  "nbformat": 4,
  "nbformat_minor": 0,
  "metadata": {
    "colab": {
      "name": "Sena code.ipynb",
      "provenance": [],
      "authorship_tag": "ABX9TyP6qAeGSrG4DZ1H2YNxqvUV",
      "include_colab_link": true
    },
    "kernelspec": {
      "name": "python3",
      "display_name": "Python 3"
    },
    "language_info": {
      "name": "python"
    },
    "accelerator": "GPU",
    "gpuClass": "standard"
  },
  "cells": [
    {
      "cell_type": "markdown",
      "metadata": {
        "id": "view-in-github",
        "colab_type": "text"
      },
      "source": [
        "<a href=\"https://colab.research.google.com/github/Siddhant-Sarkar902/hello-world/blob/main/Sena_code.ipynb\" target=\"_parent\"><img src=\"https://colab.research.google.com/assets/colab-badge.svg\" alt=\"Open In Colab\"/></a>"
      ]
    },
    {
      "cell_type": "code",
      "execution_count": 3,
      "metadata": {
        "id": "3yScr0VEtbo0"
      },
      "outputs": [],
      "source": [
        "import time \n",
        "import tensorflow as tf\n",
        "import matplotlib.pyplot as plt\n",
        "from tensorflow.keras.datasets import cifar10 "
      ]
    },
    {
      "cell_type": "code",
      "source": [
        "#load data\n",
        "(x_train, y_train),(x_test, y_test)=cifar10.load_data()\n",
        "\n",
        "#Normalizing Data\n",
        "x_train=x_train.astype('float64')\n",
        "x_train=x_train/255.0\n",
        "x_train.shape"
      ],
      "metadata": {
        "colab": {
          "base_uri": "https://localhost:8080/"
        },
        "id": "ClT689xGtmua",
        "outputId": "0d8b4b41-523a-4fd3-e5ea-4dd9eedf5df2"
      },
      "execution_count": 4,
      "outputs": [
        {
          "output_type": "stream",
          "name": "stdout",
          "text": [
            "Downloading data from https://www.cs.toronto.edu/~kriz/cifar-10-python.tar.gz\n",
            "170500096/170498071 [==============================] - 13s 0us/step\n",
            "170508288/170498071 [==============================] - 13s 0us/step\n"
          ]
        },
        {
          "output_type": "execute_result",
          "data": {
            "text/plain": [
              "(50000, 32, 32, 3)"
            ]
          },
          "metadata": {},
          "execution_count": 4
        }
      ]
    },
    {
      "cell_type": "code",
      "source": [
        "x_test=x_test.astype('float64')\n",
        "x_test=x_test/255.0\n",
        "x_test.shape   \n",
        "\n",
        "#Test Image\n",
        "plt.imshow(x_test[0])"
      ],
      "metadata": {
        "colab": {
          "base_uri": "https://localhost:8080/",
          "height": 283
        },
        "id": "uefnySdHtroq",
        "outputId": "1e1647e5-a4a8-4df2-c34e-5dd6e90f67e5"
      },
      "execution_count": 5,
      "outputs": [
        {
          "output_type": "execute_result",
          "data": {
            "text/plain": [
              "<matplotlib.image.AxesImage at 0x7f240396be10>"
            ]
          },
          "metadata": {},
          "execution_count": 5
        },
        {
          "output_type": "display_data",
          "data": {
            "text/plain": [
              "<Figure size 432x288 with 1 Axes>"
            ],
            "image/png": "[encoded data removed]"
          },
          "metadata": {
            "needs_background": "light"
          }
        }
      ]
    },
    {
      "cell_type": "code",
      "source": [
        "import tensorflow as tf\n",
        "model=tf.keras.models.Sequential()\n",
        "#Layer 1\n",
        "model.add(tf.keras.layers.Conv2D(filters=32,kernel_size=3, padding='same',activation='relu', kernel_initializer='orthogonal', input_shape=[32,32,3]))\n",
        "#Layer 2\n",
        "model.add(tf.keras.layers.Conv2D(filters=32,kernel_size=3, padding='same',activation='relu', kernel_initializer='he_uniform'))\n",
        "#Max Pooling\n",
        "model.add(tf.keras.layers.MaxPool2D(pool_size=2,strides=2,padding='valid'))\n",
        "#Layer 3\n",
        "model.add(tf.keras.layers.Conv2D(filters=64,kernel_size=3, padding='same',activation='relu', kernel_initializer='he_uniform'))\n",
        "#Layer 4\n",
        "model.add(tf.keras.layers.Conv2D(filters=64,kernel_size=3, padding='same',activation='relu', kernel_initializer='he_uniform'))\n",
        "#Max Pooling 2\n",
        "model.add(tf.keras.layers.MaxPool2D(pool_size=2,strides=2,padding='valid'))\n",
        "#Flatten\n",
        "model.add(tf.keras.layers.Flatten())\n",
        "#Dropout - to reduce chances of over-fitting\n",
        "model.add(tf.keras.layers.Dropout(0.5,noise_shape=None,seed=None))\n",
        "#First fully connected layer\n",
        "model.add(tf.keras.layers.Dense(units=128,activation='relu'))\n",
        "#Output Layer\n",
        "model.add(tf.keras.layers.Dense(units=10,activation='softmax'))\n",
        "model.summary()"
      ],
      "metadata": {
        "colab": {
          "base_uri": "https://localhost:8080/"
        },
        "id": "9NkYTa6ptyyi",
        "outputId": "c266184b-5d00-452a-86d2-7661afea26a3"
      },
      "execution_count": 6,
      "outputs": [
        {
          "output_type": "stream",
          "name": "stdout",
          "text": [
            "Model: \"sequential\"\n",
            "_________________________________________________________________\n",
            " Layer (type)                Output Shape              Param #   \n",
            "=================================================================\n",
            " conv2d (Conv2D)             (None, 32, 32, 32)        896       \n",
            "                                                                 \n",
            " conv2d_1 (Conv2D)           (None, 32, 32, 32)        9248      \n",
            "                                                                 \n",
            " max_pooling2d (MaxPooling2D  (None, 16, 16, 32)       0         \n",
            " )                                                               \n",
            "                                                                 \n",
            " conv2d_2 (Conv2D)           (None, 16, 16, 64)        18496     \n",
            "                                                                 \n",
            " conv2d_3 (Conv2D)           (None, 16, 16, 64)        36928     \n",
            "                                                                 \n",
            " max_pooling2d_1 (MaxPooling  (None, 8, 8, 64)         0         \n",
            " 2D)                                                             \n",
            "                                                                 \n",
            " flatten (Flatten)           (None, 4096)              0         \n",
            "                                                                 \n",
            " dropout (Dropout)           (None, 4096)              0         \n",
            "                                                                 \n",
            " dense (Dense)               (None, 128)               524416    \n",
            "                                                                 \n",
            " dense_1 (Dense)             (None, 10)                1290      \n",
            "                                                                 \n",
            "=================================================================\n",
            "Total params: 591,274\n",
            "Trainable params: 591,274\n",
            "Non-trainable params: 0\n",
            "_________________________________________________________________\n"
          ]
        }
      ]
    },
    {
      "cell_type": "code",
      "source": [
        "#compiling\n",
        "model.compile(loss='sparse_categorical_crossentropy',optimizer='Adam',metrics=['sparse_categorical_accuracy'])\n",
        "model.fit(x_train,y_train,epochs=20)"
      ],
      "metadata": {
        "colab": {
          "base_uri": "https://localhost:8080/"
        },
        "id": "Z8ZF8W7Pt1PV",
        "outputId": "f4017d71-bac5-4da0-927f-36180b72bc7d"
      },
      "execution_count": 10,
      "outputs": [
        {
          "output_type": "stream",
          "name": "stdout",
          "text": [
            "Epoch 1/20\n",
            "1563/1563 [==============================] - 8s 5ms/step - loss: 0.3719 - sparse_categorical_accuracy: 0.8672\n",
            "Epoch 2/20\n",
            "1563/1563 [==============================] - 7s 5ms/step - loss: 0.3554 - sparse_categorical_accuracy: 0.8728\n",
            "Epoch 3/20\n",
            "1563/1563 [==============================] - 7s 5ms/step - loss: 0.3431 - sparse_categorical_accuracy: 0.8767\n",
            "Epoch 4/20\n",
            "1563/1563 [==============================] - 7s 5ms/step - loss: 0.3328 - sparse_categorical_accuracy: 0.8824\n",
            "Epoch 5/20\n",
            "1563/1563 [==============================] - 7s 5ms/step - loss: 0.3177 - sparse_categorical_accuracy: 0.8875\n",
            "Epoch 6/20\n",
            "1563/1563 [==============================] - 7s 5ms/step - loss: 0.3103 - sparse_categorical_accuracy: 0.8897\n",
            "Epoch 7/20\n",
            "1563/1563 [==============================] - 7s 5ms/step - loss: 0.3016 - sparse_categorical_accuracy: 0.8936\n",
            "Epoch 8/20\n",
            "1563/1563 [==============================] - 7s 5ms/step - loss: 0.3004 - sparse_categorical_accuracy: 0.8935\n",
            "Epoch 9/20\n",
            "1563/1563 [==============================] - 7s 5ms/step - loss: 0.2881 - sparse_categorical_accuracy: 0.8994\n",
            "Epoch 10/20\n",
            "1563/1563 [==============================] - 7s 5ms/step - loss: 0.2857 - sparse_categorical_accuracy: 0.8992\n",
            "Epoch 11/20\n",
            "1563/1563 [==============================] - 7s 5ms/step - loss: 0.2750 - sparse_categorical_accuracy: 0.9040\n",
            "Epoch 12/20\n",
            "1563/1563 [==============================] - 7s 5ms/step - loss: 0.2688 - sparse_categorical_accuracy: 0.9049\n",
            "Epoch 13/20\n",
            "1563/1563 [==============================] - 7s 5ms/step - loss: 0.2601 - sparse_categorical_accuracy: 0.9093\n",
            "Epoch 14/20\n",
            "1563/1563 [==============================] - 7s 5ms/step - loss: 0.2693 - sparse_categorical_accuracy: 0.9065\n",
            "Epoch 15/20\n",
            "1563/1563 [==============================] - 7s 5ms/step - loss: 0.2497 - sparse_categorical_accuracy: 0.9122\n",
            "Epoch 16/20\n",
            "1563/1563 [==============================] - 7s 5ms/step - loss: 0.2551 - sparse_categorical_accuracy: 0.9118\n",
            "Epoch 17/20\n",
            "1563/1563 [==============================] - 7s 5ms/step - loss: 0.2496 - sparse_categorical_accuracy: 0.9126\n",
            "Epoch 18/20\n",
            "1563/1563 [==============================] - 7s 5ms/step - loss: 0.2442 - sparse_categorical_accuracy: 0.9146\n",
            "Epoch 19/20\n",
            "1563/1563 [==============================] - 7s 5ms/step - loss: 0.2440 - sparse_categorical_accuracy: 0.9154\n",
            "Epoch 20/20\n",
            "1563/1563 [==============================] - 7s 5ms/step - loss: 0.2343 - sparse_categorical_accuracy: 0.9183\n"
          ]
        },
        {
          "output_type": "execute_result",
          "data": {
            "text/plain": [
              "<keras.callbacks.History at 0x7f2386674210>"
            ]
          },
          "metadata": {},
          "execution_count": 10
        }
      ]
    }
  ]
}